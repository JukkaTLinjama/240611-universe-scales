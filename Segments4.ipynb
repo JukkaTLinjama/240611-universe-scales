{
 "cells": [
  {
   "cell_type": "markdown",
   "metadata": {},
   "source": [
    "## segment plotting with half decades, Segments4.ipynb\n",
    "\n",
    "* 20240611 use distnace unit conversions form packages/convert/converters.py  (converters 0.1)\n",
    "* .. from\n",
    " 29.5.2024, start from segments.ipynb 21.5.2024 \"added decade images\"\n",
    "* use half decade images\n",
    "* https://chatgpt.com/share/9f0e536b-9277-4ba9-ac48-c5af49bd76e8"
   ]
  },
  {
   "cell_type": "markdown",
   "metadata": {},
   "source": [
    "Function definitions first:"
   ]
  },
  {
   "cell_type": "markdown",
   "metadata": {},
   "source": [
    "## and now setting images to side, and display scale in t user and engineering units...\n",
    "* use functions convert_to_user_units and  ... _engineering units"
   ]
  },
  {
   "cell_type": "code",
   "execution_count": 1,
   "metadata": {},
   "outputs": [
    {
     "data": {
      "application/vnd.jupyter.widget-view+json": {
       "model_id": "fd1b800f58454c6585c78a745e8a489e",
       "version_major": 2,
       "version_minor": 0
      },
      "text/plain": [
       "FloatSlider(value=0.0, description='Decade:', max=27.5, min=-19.0, step=0.5)"
      ]
     },
     "metadata": {},
     "output_type": "display_data"
    },
    {
     "data": {
      "application/vnd.jupyter.widget-view+json": {
       "model_id": "5ea0e94a5e1a45f49fa102ab17e8c067",
       "version_major": 2,
       "version_minor": 0
      },
      "text/plain": [
       "Output()"
      ]
     },
     "metadata": {},
     "output_type": "display_data"
    }
   ],
   "source": [
    "# Segments.ipynb 11.6.2024\n",
    "\n",
    "import numpy as np\n",
    "import matplotlib.pyplot as plt\n",
    "import ipywidgets as widgets\n",
    "from IPython.display import display, clear_output\n",
    "from matplotlib.colors import NoNorm\n",
    "import os\n",
    "# import funcions from local package \"convert\"\n",
    "from convert.converters import convert_to_engineering_units, convert_to_user_units  \n",
    "\n",
    "# Directory containing images for half decades\n",
    "image_dir = 'half_decades'\n",
    "\n",
    "# Generate image paths with new naming convention and extended range\n",
    "image_paths = {i / 2: os.path.join(image_dir, f'decade_{i / 2:.1f}.png') for i in range(-38, 56)}\n",
    "\n",
    "# Mapping decade numbers to angles with the extended range and half decade increments\n",
    "decade_to_angle = {i / 2: ((i / 2) * 6) % 360 for i in range(-38, 56)}\n",
    "\n",
    "# segment plotting function\n",
    "def plot_segment(ax, mid_angle, angle_width, mid_radius, radius_range, color='gray', alpha=0.4):\n",
    "    start_angle = np.radians(mid_angle - angle_width / 2)\n",
    "    end_angle = np.radians(mid_angle + angle_width / 2)\n",
    "    angles_rad = np.linspace(start_angle, end_angle, 100)\n",
    "    inner_radius = mid_radius - radius_range\n",
    "    outer_radius = mid_radius + radius_range\n",
    "    ax.fill_between(angles_rad, inner_radius, outer_radius, color=color, alpha=alpha, zorder=2)\n",
    "\n",
    "# polar arrow cursor plotting update function\n",
    "def update_polar_arrow(decade, min_radius, max_radius):\n",
    "    decade_key = f'{decade:.1f}'\n",
    "    angle = decade_to_angle[float(decade_key)]\n",
    "    \n",
    "    with output:\n",
    "        clear_output(wait=True)\n",
    "        fig = plt.figure(figsize=(12, 6))\n",
    "        ax = fig.add_subplot(121, projection='polar')\n",
    "        \n",
    "        # Plot the image in a new axis on the right\n",
    "        ax_inset = fig.add_axes([0.55, 0.1, 0.4, 0.8])  # Position and size of the image subplot\n",
    "        image_path = image_paths[float(decade_key)]\n",
    "        image = plt.imread(image_path)\n",
    "        ax_inset.imshow(image)\n",
    "        ax_inset.axis('off')  # Turn off axis for inset\n",
    "        \n",
    "        # Plotting segments and arrow on the polar plot\n",
    "        num_segments = 12\n",
    "        angle_width = 1 ; mid_radius = 1.8 ; radius_range = 0.2\n",
    "        num_small_segments = 60\n",
    "        small_segment_angle_width = 3; small_segment_mid_radius = 2.2; small_segment_radius_range = 0.05\n",
    "        \n",
    "        ax.spines['polar'].set_visible(False)\n",
    "        \n",
    "        for i in range(num_segments):\n",
    "            mid_angle = i * (360 / num_segments)\n",
    "            plot_segment(ax, mid_angle, angle_width, mid_radius, radius_range, 'green', 0.2)\n",
    "        for i in range(num_small_segments):\n",
    "            mid_angle = i * (360 / num_small_segments)\n",
    "            plot_segment(ax, mid_angle, small_segment_angle_width, small_segment_mid_radius, small_segment_radius_range, 'lightblue', 0.5)\n",
    "        \n",
    "        plot_segment(ax,0,359,0.1,0.01,'gray', 0.2)  # plot center dot\n",
    "\n",
    "        # plot red pointer line\n",
    "        radians = np.deg2rad(angle)\n",
    "        ax.plot([radians, radians], [min_radius, max_radius], color='red', linewidth=1, zorder=3)\n",
    "        # Plot the decade value in the pointer arrow\n",
    "        rounded_decade=round(2*decade)/2 # round value to 0.5 steps\n",
    "        fig_scale=10**rounded_decade\n",
    "        ax.text(radians, 3.3, f'10^{rounded_decade}', color='red', fontsize=12, ha='center', va='center')\n",
    "       \n",
    "        # Print the original scale with various conversions\n",
    "        print(f\"{fig_scale:.2e} | \" +\n",
    "      f\"{convert_to_engineering_units(fig_scale)} | \" +\n",
    "      f\"{convert_to_user_units(fig_scale)}\")\n",
    "        \n",
    "        highlight_angle = round(angle / 30) * 30\n",
    "        plot_segment(ax, highlight_angle, 30, 2.2, 0.2, 'lightgreen', 0.3)\n",
    "        \n",
    "        ax.set_theta_zero_location('N')\n",
    "        ax.set_theta_direction(-1)\n",
    "        ax.set_xticks([])\n",
    "        ax.set_yticks([])\n",
    "        \n",
    "        plt.show()\n",
    "\n",
    "# Widgets and slider plotting\n",
    "\n",
    "# Initialize slider for half-decade increments using FloatSlider\n",
    "decade_slider = widgets.FloatSlider(\n",
    "    value=0,  # Initial decade\n",
    "    min=-19.0,  # Minimum value of the slider\n",
    "    max=27.5,  # Maximum value of the slider\n",
    "    step=0.5,  # Step size for the slider to increment in half-decade steps\n",
    "    description='Decade:',  # Label of the slider\n",
    "    continuous_update=True  # Update the value continuously as the slider moves\n",
    ")\n",
    "\n",
    "# Output widget to display plot\n",
    "output = widgets.Output()\n",
    "\n",
    "# Parameters for polar arrow radius\n",
    "min_radius = 0.1  # Minimum radius of the arrow\n",
    "max_radius = 3  # Maximum radius of the arrow\n",
    "\n",
    "# Link the slider's value change to the update function\n",
    "def on_polar_value_change(change):\n",
    "    update_polar_arrow(change['new'], min_radius, max_radius)\n",
    "\n",
    "decade_slider.observe(on_polar_value_change, names='value')\n",
    "\n",
    "# Displaying the slider and the output plot\n",
    "display(decade_slider, output)\n",
    "\n",
    "# Call update_polar_arrow initially to display the initial state\n",
    "update_polar_arrow(decade_slider.value, min_radius, max_radius)\n"
   ]
  },
  {
   "cell_type": "markdown",
   "metadata": {},
   "source": [
    "## test: import converters"
   ]
  },
  {
   "cell_type": "code",
   "execution_count": 3,
   "metadata": {},
   "outputs": [
    {
     "name": "stdout",
     "output_type": "stream",
     "text": [
      "1 micrometers (-6)\n",
      "1 in kilometers\n"
     ]
    }
   ],
   "source": [
    "from convert.converters import convert_to_engineering_units, convert_to_user_units\n",
    "\n",
    "# Example usage\n",
    "print(convert_to_engineering_units(0.000001))\n",
    "print(convert_to_user_units(1000))\n"
   ]
  },
  {
   "cell_type": "markdown",
   "metadata": {},
   "source": [
    "### testataan user_units...."
   ]
  },
  {
   "cell_type": "code",
   "execution_count": 6,
   "metadata": {},
   "outputs": [
    {
     "data": {
      "application/vnd.jupyter.widget-view+json": {
       "model_id": "1b690f53d3fb4b1c9ee6ed290edb385d",
       "version_major": 2,
       "version_minor": 0
      },
      "text/plain": [
       "FloatSlider(value=0.0, description='Decade:', max=27.5, min=-19.0, step=0.5)"
      ]
     },
     "metadata": {},
     "output_type": "display_data"
    },
    {
     "data": {
      "application/vnd.jupyter.widget-view+json": {
       "model_id": "8c05373e4a564f9e9faa4696d5dcd03e",
       "version_major": 2,
       "version_minor": 0
      },
      "text/plain": [
       "Output()"
      ]
     },
     "metadata": {},
     "output_type": "display_data"
    }
   ],
   "source": [
    "import ipywidgets as widgets\n",
    "import matplotlib.pyplot as plt\n",
    "from IPython.display import display\n",
    "from convert.converters import convert_to_engineering_units, convert_to_user_units\n",
    "\n",
    "# Initialize the slider for half-decade increments\n",
    "decade_slider = widgets.FloatSlider(\n",
    "    value=0,  # Initial decade\n",
    "    min=-19.0,  # Minimum value of the slider\n",
    "    max=27.5,  # Maximum value of the slider\n",
    "    step=0.5,  # Step size for the slider to increment in half-decade steps\n",
    "    description='Decade:',  # Label of the slider\n",
    "    continuous_update=True  # Update the value continuously as the slider moves\n",
    ")\n",
    "\n",
    "# Output widget to display plot\n",
    "output = widgets.Output()\n",
    "\n",
    "# Define the function to update the polar plot\n",
    "def update_polar_arrow(decade, min_radius, max_radius):\n",
    "    radius = min_radius + (max_radius - min_radius) * ((decade + 19) / (27.5 + 19))  # Scale radius based on slider\n",
    "    theta = 1  # Fixed angle for simplicity\n",
    "\n",
    "    with output:\n",
    "        output.clear_output(wait=True)\n",
    "        fig, ax = plt.subplots(subplot_kw={'projection': 'polar'})\n",
    "        ax.set_ylim(0, max_radius)  # Set the limit of the polar plot\n",
    "\n",
    "        # Convert the distance based on the decade slider\n",
    "        distance_m = 10 ** decade  # Calculate distance as 10 to the power of the slider value\n",
    "        converted_distance = convert_to_user_units(distance_m)\n",
    "        \n",
    "        # Plot the distance as an arrow on a polar plot\n",
    "        ax.arrow(theta, 0, 0, radius, alpha=0.5, width=0.015, head_width=0.05, head_length=0.1, fc='blue', ec='blue')\n",
    "        ax.text(theta, radius + 0.1, converted_distance, ha='center', va='bottom')  # Display the converted distance\n",
    "\n",
    "        plt.show()\n",
    "\n",
    "# Link the slider's value change to the update function\n",
    "decade_slider.observe(lambda change: update_polar_arrow(change['new'], min_radius, max_radius), names='value')\n",
    "\n",
    "# Displaying the slider and the output plot\n",
    "display(decade_slider, output)\n",
    "\n",
    "# Call update_polar_arrow initially to display the initial state\n",
    "update_polar_arrow(decade_slider.value, min_radius, max_radius)\n"
   ]
  },
  {
   "cell_type": "code",
   "execution_count": null,
   "metadata": {},
   "outputs": [],
   "source": []
  }
 ],
 "metadata": {
  "kernelspec": {
   "display_name": "my-virtualenv-name",
   "language": "python",
   "name": "my-virtualenv-name"
  },
  "language_info": {
   "codemirror_mode": {
    "name": "ipython",
    "version": 3
   },
   "file_extension": ".py",
   "mimetype": "text/x-python",
   "name": "python",
   "nbconvert_exporter": "python",
   "pygments_lexer": "ipython3",
   "version": "3.12.1"
  }
 },
 "nbformat": 4,
 "nbformat_minor": 2
}
