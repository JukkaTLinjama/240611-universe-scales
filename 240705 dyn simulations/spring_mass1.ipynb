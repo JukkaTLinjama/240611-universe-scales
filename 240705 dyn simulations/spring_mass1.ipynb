{
 "cells": [
  {
   "cell_type": "code",
   "execution_count": 1,
   "metadata": {},
   "outputs": [],
   "source": [
    "# pip install numpy matplotlib ipywidgets\n",
    "%matplotlib widget\n",
    "import numpy as np\n",
    "import matplotlib.pyplot as plt\n",
    "from matplotlib.animation import FuncAnimation\n",
    "from IPython.display import display\n",
    "import ipywidgets as widgets\n"
   ]
  },
  {
   "cell_type": "code",
   "execution_count": 2,
   "metadata": {},
   "outputs": [
    {
     "data": {
      "application/vnd.jupyter.widget-view+json": {
       "model_id": "2d8a0b89e80e44418e6ddfb381ab08bf",
       "version_major": 2,
       "version_minor": 0
      },
      "text/plain": [
       "VBox(children=(FloatSlider(value=20.0, description='Spring Constant (k)', max=50.0, min=1.0), FloatSlider(valu…"
      ]
     },
     "metadata": {},
     "output_type": "display_data"
    },
    {
     "data": {
      "application/vnd.jupyter.widget-view+json": {
       "model_id": "ae7031b936444a20a5ca4fe8b9f1207d",
       "version_major": 2,
       "version_minor": 0
      },
      "text/plain": [
       "Output()"
      ]
     },
     "metadata": {},
     "output_type": "display_data"
    }
   ],
   "source": [
    "import numpy as np\n",
    "import matplotlib.pyplot as plt\n",
    "from matplotlib.animation import FuncAnimation\n",
    "from IPython.display import display\n",
    "import ipywidgets as widgets\n",
    "\n",
    "# Define the Mass-Spring System\n",
    "class MassSpringSystem:\n",
    "    def __init__(self, mass=1.0, k=20.0, damping=0.5):\n",
    "        self.mass = mass\n",
    "        self.k = k\n",
    "        self.damping = damping\n",
    "        self.position = 1.0  # Initial position\n",
    "        self.velocity = 0.0  # Initial velocity\n",
    "\n",
    "    def update(self, dt):\n",
    "        # Compute force from spring (Hooke's law) and damping\n",
    "        force = -self.k * self.position - self.damping * self.velocity\n",
    "        # Acceleration (Newton's second law)\n",
    "        acceleration = force / self.mass\n",
    "        # Update velocity and position using simple Euler integration\n",
    "        self.velocity += acceleration * dt\n",
    "        self.position += self.velocity * dt\n",
    "\n",
    "# Create a function to run the simulation\n",
    "def run_simulation(k, damping, num_steps):\n",
    "    system = MassSpringSystem(k=k, damping=damping)\n",
    "    dt = 0.1  # Time step\n",
    "    positions = []\n",
    "\n",
    "    for _ in range(num_steps):\n",
    "        system.update(dt)\n",
    "        positions.append(system.position)\n",
    "\n",
    "    # Plot the results\n",
    "    plt.figure(figsize=(8, 4))\n",
    "    plt.plot(np.arange(0, num_steps) * dt, positions, label='Position')\n",
    "    plt.xlabel('Time')\n",
    "    plt.ylabel('Position')\n",
    "    plt.title('Spring-Mass System Simulation')\n",
    "    plt.grid(True)\n",
    "    plt.legend()\n",
    "    plt.show()\n",
    "\n",
    "# Create widgets for input parameters\n",
    "k_slider = widgets.FloatSlider(value=20.0, min=1.0, max=50.0, step=0.1, description='Spring Constant (k)')\n",
    "damping_slider = widgets.FloatSlider(value=0.5, min=0, max=10.0, step=0.1, description='Damping Coefficient')\n",
    "num_steps_slider = widgets.IntSlider(value=100, min=10, max=500, step=10, description='Number of Steps')\n",
    "\n",
    "# Widget UI\n",
    "ui = widgets.VBox([k_slider, damping_slider, num_steps_slider])\n",
    "out = widgets.interactive_output(run_simulation, {'k': k_slider, 'damping': damping_slider, 'num_steps': num_steps_slider})\n",
    "display(ui, out)\n"
   ]
  },
  {
   "cell_type": "code",
   "execution_count": 1,
   "metadata": {},
   "outputs": [
    {
     "data": {
      "application/vnd.jupyter.widget-view+json": {
       "model_id": "f49eaea5d2404d00af49353529229782",
       "version_major": 2,
       "version_minor": 0
      },
      "text/plain": [
       "VBox(children=(FloatSlider(value=20.0, description='Spring Constant (k)', max=50.0, min=1.0), FloatSlider(valu…"
      ]
     },
     "metadata": {},
     "output_type": "display_data"
    },
    {
     "data": {
      "application/vnd.jupyter.widget-view+json": {
       "model_id": "e28d242343f845c28e2ca9af90217371",
       "version_major": 2,
       "version_minor": 0
      },
      "text/plain": [
       "Output()"
      ]
     },
     "metadata": {},
     "output_type": "display_data"
    },
    {
     "name": "stderr",
     "output_type": "stream",
     "text": [
      "No such comm: a1dd5ddbe579451093c714846fad10a7\n",
      "No such comm: a1dd5ddbe579451093c714846fad10a7\n",
      "No such comm: a1dd5ddbe579451093c714846fad10a7\n",
      "No such comm: a1dd5ddbe579451093c714846fad10a7\n",
      "No such comm: a1dd5ddbe579451093c714846fad10a7\n",
      "No such comm: a1dd5ddbe579451093c714846fad10a7\n"
     ]
    }
   ],
   "source": [
    "import numpy as np\n",
    "import matplotlib.pyplot as plt\n",
    "from matplotlib.animation import FuncAnimation\n",
    "from IPython.display import display\n",
    "import ipywidgets as widgets\n",
    "%matplotlib widget\n",
    "\n",
    "global anim  # Global variable to hold the animation\n",
    "\n",
    "class MassSpringSystem:\n",
    "    def __init__(self, mass=1.0, k=20.0, damping=0.5, position=1.0):\n",
    "        self.mass = mass\n",
    "        self.k = k\n",
    "        self.damping = damping\n",
    "        self.position = position\n",
    "        self.velocity = 0.0\n",
    "\n",
    "    def update(self, dt):\n",
    "        force = -self.k * self.position - self.damping * self.velocity\n",
    "        acceleration = force / self.mass\n",
    "        self.velocity += acceleration * dt\n",
    "        self.position += self.velocity * dt\n",
    "\n",
    "def animate_mass_spring(k, damping, num_steps, dt):\n",
    "    global anim  # Refer to the global variable\n",
    "    system = MassSpringSystem(k=k, damping=damping)\n",
    "    \n",
    "    fig, ax = plt.subplots()\n",
    "    ax.set_xlim(-1.5, 1.5)\n",
    "    ax.set_ylim(-1.5, 1.5)\n",
    "    line, = ax.plot([], [], 'o-', lw=2)\n",
    "    time_text = ax.text(0.05, 0.9, '', transform=ax.transAxes)\n",
    "\n",
    "    def init():\n",
    "        line.set_data([], [])\n",
    "        time_text.set_text('')\n",
    "        return line, time_text\n",
    "\n",
    "    def animate(i):\n",
    "        system.update(dt)\n",
    "        line.set_data(0, system.position)\n",
    "        time_text.set_text(f'Time = {i*dt:.2f}s')\n",
    "        return line, time_text\n",
    "\n",
    "    anim = FuncAnimation(fig, animate, frames=num_steps, init_func=init, blit=True, interval=dt*1000)\n",
    "    plt.close(fig)  # Ensure the figure does not interfere with the widget display\n",
    "    return anim\n",
    "\n",
    "# Define the UI components and their functionality\n",
    "k_slider = widgets.FloatSlider(value=20.0, min=1.0, max=50.0, step=0.1, description='Spring Constant (k)')\n",
    "damping_slider = widgets.FloatSlider(value=0.5, min=0, max=10.0, step=0.1, description='Damping Coefficient')\n",
    "num_steps_slider = widgets.IntSlider(value=100, min=10, max=500, step=10, description='Number of Steps')\n",
    "dt_slider = widgets.FloatSlider(value=0.1, min=0.01, max=1.0, step=0.01, description='Time Step (s)')\n",
    "\n",
    "ui = widgets.VBox([k_slider, damping_slider, num_steps_slider, dt_slider])\n",
    "out = widgets.interactive_output(animate_mass_spring, {\n",
    "    'k': k_slider,\n",
    "    'damping': damping_slider,\n",
    "    'num_steps': num_steps_slider,\n",
    "    'dt': dt_slider\n",
    "})\n",
    "\n",
    "display(ui, out)\n"
   ]
  },
  {
   "cell_type": "code",
   "execution_count": 1,
   "metadata": {},
   "outputs": [
    {
     "data": {
      "application/vnd.jupyter.widget-view+json": {
       "model_id": "27442a1e221d4c7a8a0ca8f5e70b6854",
       "version_major": 2,
       "version_minor": 0
      },
      "image/png": "[encoded data removed]",
      "text/html": [
       "\n",
       "            <div style=\"display: inline-block;\">\n",
       "                <div class=\"jupyter-widgets widget-label\" style=\"text-align: center;\">\n",
       "                    Figure\n",
       "                </div>\n",
       "                <img src='data:image/png;base64,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' width=640.0/>\n",
       "            </div>\n",
       "        "
      ],
      "text/plain": [
       "Canvas(toolbar=Toolbar(toolitems=[('Home', 'Reset original view', 'home', 'home'), ('Back', 'Back to previous …"
      ]
     },
     "metadata": {},
     "output_type": "display_data"
    }
   ],
   "source": [
    "%matplotlib widget\n",
    "import numpy as np\n",
    "import matplotlib.pyplot as plt\n",
    "from matplotlib.animation import FuncAnimation\n",
    "\n",
    "fig, ax = plt.subplots()\n",
    "ax.set_xlim(-1.5, 1.5)\n",
    "ax.set_ylim(-1.5, 1.5)\n",
    "line, = ax.plot([], [], 'o-', lw=2)\n",
    "\n",
    "def init():\n",
    "    line.set_data([], [])\n",
    "    return line,\n",
    "\n",
    "def animate(i):\n",
    "    x = np.linspace(0, 2 * np.pi, 10)\n",
    "    y = np.sin(x + i * 0.1)\n",
    "    line.set_data(x, y)\n",
    "    return line,\n",
    "\n",
    "ani = FuncAnimation(fig, animate, init_func=init, frames=100, blit=True)\n",
    "\n",
    "plt.show()\n"
   ]
  },
  {
   "cell_type": "code",
   "execution_count": null,
   "metadata": {},
   "outputs": [],
   "source": []
  }
 ],
 "metadata": {
  "kernelspec": {
   "display_name": "my-virtualenv-name",
   "language": "python",
   "name": "my-virtualenv-name"
  },
  "language_info": {
   "codemirror_mode": {
    "name": "ipython",
    "version": 3
   },
   "file_extension": ".py",
   "mimetype": "text/x-python",
   "name": "python",
   "nbconvert_exporter": "python",
   "pygments_lexer": "ipython3",
   "version": "3.12.3"
  }
 },
 "nbformat": 4,
 "nbformat_minor": 2
}
