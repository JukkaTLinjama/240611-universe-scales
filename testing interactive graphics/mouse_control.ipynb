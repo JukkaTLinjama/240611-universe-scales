{
 "cells": [
  {
   "cell_type": "code",
   "execution_count": 3,
   "metadata": {},
   "outputs": [
    {
     "data": {
      "application/vnd.jupyter.widget-view+json": {
       "model_id": "a84e4f00a5154d08b4a2430490750ad4",
       "version_major": 2,
       "version_minor": 0
      },
      "image/png": "[encoded data removed]",
      "text/html": [
       "\n",
       "            <div style=\"display: inline-block;\">\n",
       "                <div class=\"jupyter-widgets widget-label\" style=\"text-align: center;\">\n",
       "                    Figure\n",
       "                </div>\n",
       "                <img src='data:image/png;base64,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' width=640.0/>\n",
       "            </div>\n",
       "        "
      ],
      "text/plain": [
       "Canvas(toolbar=Toolbar(toolitems=[('Home', 'Reset original view', 'home', 'home'), ('Back', 'Back to previous …"
      ]
     },
     "metadata": {},
     "output_type": "display_data"
    }
   ],
   "source": [
    "%matplotlib widget\n",
    "import matplotlib.pyplot as plt\n",
    "from ipywidgets import widgets\n",
    "\n",
    "class InteractiveArrowPlot:\n",
    "    def __init__(self):\n",
    "        self.fig, self.ax = plt.subplots()\n",
    "        self.ax.axis([0, 1, 0, 1])\n",
    "        self.ax.set_xticks([])\n",
    "        self.ax.set_yticks([])\n",
    "        \n",
    "        self.dragging = False  # Flag to track dragging state\n",
    "        \n",
    "        # Initial arrow from center to initial mouse position (default to center)\n",
    "        self.arrow, = self.ax.plot([0.5, 0.5], [0.5, 0.5], lw=2, marker='o', color='red')\n",
    "        self.annotation = self.ax.annotate('', xy=(0.5, 0.5), xytext=(0.5, 0.5),\n",
    "                                           arrowprops=dict(facecolor='black', shrink=0, width=1, headwidth=8))\n",
    "        # Connect to the mouse move event\n",
    "        self.fig.canvas.mpl_connect('motion_notify_event', self.on_mouse_move)\n",
    "        # Connect to mouse press and release events\n",
    "        self.fig.canvas.mpl_connect('button_press_event', self.on_mouse_press)\n",
    "        self.fig.canvas.mpl_connect('button_release_event', self.on_mouse_release)\n",
    "\n",
    "    def on_mouse_press(self, event):\n",
    "        self.dragging = True  # Start dragging\n",
    "\n",
    "    def on_mouse_release(self, event):\n",
    "        self.dragging = False  # Stop dragging\n",
    "\n",
    "    def on_mouse_move(self, event):\n",
    "        if self.dragging and event.inaxes == self.ax:  # Only update if dragging\n",
    "            # Update the arrow data\n",
    "            self.arrow.set_data([0.5, event.xdata], [0.5, event.ydata])\n",
    "            # Update the annotation for the arrow\n",
    "            self.annotation.xy = (event.xdata, event.ydata)\n",
    "            self.fig.canvas.draw()\n",
    "\n",
    "# Create an instance of the interactive plot\n",
    "plot = InteractiveArrowPlot()\n",
    "plt.show()\n"
   ]
  },
  {
   "cell_type": "code",
   "execution_count": 4,
   "metadata": {},
   "outputs": [],
   "source": [
    "from bokeh.plotting import figure, output_file, show\n",
    "from bokeh.models import Arrow, NormalHead, ColumnDataSource, CrosshairTool, CustomJS\n",
    "\n",
    "output_file(\"interactive_arrow.html\")\n",
    "\n",
    "p = figure(width=400, height=400, title=\"Interactive Arrow Plot\")\n",
    "p.add_tools(CrosshairTool())\n",
    "\n",
    "source = ColumnDataSource(data={'x_ends': [0.5], 'y_ends': [0.5]})\n",
    "p.scatter(x=[0.5], y=[0.5], size=10, color=\"navy\", alpha=0.5, marker=\"circle\")\n",
    "\n",
    "arrow = Arrow(end=NormalHead(fill_color=\"firebrick\", size=15),\n",
    "              x_start=0.5, y_start=0.5, x_end='x_ends', y_end='y_ends', source=source)\n",
    "p.add_layout(arrow)\n",
    "\n",
    "# JavaScript callback\n",
    "callback = CustomJS(args=dict(source=source), code=\"\"\"\n",
    "    const data = source.data;\n",
    "    const x = cb_obj.x; // Get x-coordinate from callback object\n",
    "    const y = cb_obj.y; // Get y-coordinate from callback object\n",
    "    if (0 <= x && x <= 1 && 0 <= y && y <= 1) { // Check bounds\n",
    "        data['x_ends'][0] = x;\n",
    "        data['y_ends'][0] = y;\n",
    "        source.change.emit(); // Notify listeners of data change\n",
    "    }\n",
    "\"\"\")\n",
    "\n",
    "p.js_on_event('tap', callback)  # Use js_on_event to handle tap with JavaScript\n",
    "\n",
    "show(p)\n"
   ]
  },
  {
   "cell_type": "code",
   "execution_count": null,
   "metadata": {},
   "outputs": [],
   "source": []
  }
 ],
 "metadata": {
  "kernelspec": {
   "display_name": "my-virtualenv-name",
   "language": "python",
   "name": "my-virtualenv-name"
  },
  "language_info": {
   "codemirror_mode": {
    "name": "ipython",
    "version": 3
   },
   "file_extension": ".py",
   "mimetype": "text/x-python",
   "name": "python",
   "nbconvert_exporter": "python",
   "pygments_lexer": "ipython3",
   "version": "3.12.1"
  }
 },
 "nbformat": 4,
 "nbformat_minor": 2
}
